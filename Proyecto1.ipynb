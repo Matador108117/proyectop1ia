{
 "cells": [
  {
   "cell_type": "markdown",
   "id": "47571c6e-3235-42e6-8a0a-23ee4b5a98f3",
   "metadata": {},
   "source": [
    ".Proyecto para el Parcial 1 \"Proyecto covid 19\"\n",
    "Por Uriel Brenis Aguilar\n",
    "Rafael Melchor Hernandez\n"
   ]
  },
  {
   "cell_type": "markdown",
   "id": "8aec538d-bb51-495d-a749-f67a04669f95",
   "metadata": {},
   "source": [
    "1 Cargar el dataset "
   ]
  },
  {
   "cell_type": "code",
   "execution_count": 2,
   "id": "b4f8dffb-198b-406e-a0d4-a1f62692f829",
   "metadata": {},
   "outputs": [
    {
     "data": {
      "text/html": [
       "<div>\n",
       "<style scoped>\n",
       "    .dataframe tbody tr th:only-of-type {\n",
       "        vertical-align: middle;\n",
       "    }\n",
       "\n",
       "    .dataframe tbody tr th {\n",
       "        vertical-align: top;\n",
       "    }\n",
       "\n",
       "    .dataframe thead th {\n",
       "        text-align: right;\n",
       "    }\n",
       "</style>\n",
       "<table border=\"1\" class=\"dataframe\">\n",
       "  <thead>\n",
       "    <tr style=\"text-align: right;\">\n",
       "      <th></th>\n",
       "      <th>ID</th>\n",
       "      <th>Edad</th>\n",
       "      <th>Sexo</th>\n",
       "      <th>Temperatura</th>\n",
       "      <th>Presion_Sistolica</th>\n",
       "      <th>Presion_Diastolica</th>\n",
       "      <th>Frecuencia_Cardiaca</th>\n",
       "      <th>Nivel_Oxigeno</th>\n",
       "      <th>Enfermo_COVID</th>\n",
       "      <th>Hospitalizado</th>\n",
       "    </tr>\n",
       "  </thead>\n",
       "  <tbody>\n",
       "    <tr>\n",
       "      <th>0</th>\n",
       "      <td>1</td>\n",
       "      <td>52</td>\n",
       "      <td>Hombre</td>\n",
       "      <td>35.5</td>\n",
       "      <td>155</td>\n",
       "      <td>75</td>\n",
       "      <td>89</td>\n",
       "      <td>97</td>\n",
       "      <td>No</td>\n",
       "      <td>Sí</td>\n",
       "    </tr>\n",
       "    <tr>\n",
       "      <th>1</th>\n",
       "      <td>2</td>\n",
       "      <td>15</td>\n",
       "      <td>Hombre</td>\n",
       "      <td>38.1</td>\n",
       "      <td>142</td>\n",
       "      <td>66</td>\n",
       "      <td>73</td>\n",
       "      <td>93</td>\n",
       "      <td>Sí</td>\n",
       "      <td>No</td>\n",
       "    </tr>\n",
       "    <tr>\n",
       "      <th>2</th>\n",
       "      <td>3</td>\n",
       "      <td>72</td>\n",
       "      <td>Mujer</td>\n",
       "      <td>35.8</td>\n",
       "      <td>140</td>\n",
       "      <td>76</td>\n",
       "      <td>66</td>\n",
       "      <td>81</td>\n",
       "      <td>No</td>\n",
       "      <td>No</td>\n",
       "    </tr>\n",
       "    <tr>\n",
       "      <th>3</th>\n",
       "      <td>4</td>\n",
       "      <td>61</td>\n",
       "      <td>Hombre</td>\n",
       "      <td>38.6</td>\n",
       "      <td>128</td>\n",
       "      <td>82</td>\n",
       "      <td>76</td>\n",
       "      <td>88</td>\n",
       "      <td>Sí</td>\n",
       "      <td>No</td>\n",
       "    </tr>\n",
       "    <tr>\n",
       "      <th>4</th>\n",
       "      <td>5</td>\n",
       "      <td>21</td>\n",
       "      <td>Mujer</td>\n",
       "      <td>35.9</td>\n",
       "      <td>140</td>\n",
       "      <td>85</td>\n",
       "      <td>103</td>\n",
       "      <td>84</td>\n",
       "      <td>Sí</td>\n",
       "      <td>Sí</td>\n",
       "    </tr>\n",
       "  </tbody>\n",
       "</table>\n",
       "</div>"
      ],
      "text/plain": [
       "   ID  Edad    Sexo  Temperatura  Presion_Sistolica  Presion_Diastolica  \\\n",
       "0   1    52  Hombre         35.5                155                  75   \n",
       "1   2    15  Hombre         38.1                142                  66   \n",
       "2   3    72   Mujer         35.8                140                  76   \n",
       "3   4    61  Hombre         38.6                128                  82   \n",
       "4   5    21   Mujer         35.9                140                  85   \n",
       "\n",
       "   Frecuencia_Cardiaca  Nivel_Oxigeno Enfermo_COVID Hospitalizado  \n",
       "0                   89             97            No            Sí  \n",
       "1                   73             93            Sí            No  \n",
       "2                   66             81            No            No  \n",
       "3                   76             88            Sí            No  \n",
       "4                  103             84            Sí            Sí  "
      ]
     },
     "execution_count": 2,
     "metadata": {},
     "output_type": "execute_result"
    }
   ],
   "source": [
    "#importaciones\n",
    "import pandas as pd\n",
    "import numpy as np\n",
    "import seaborn as sn\n",
    "import matplotlib.pyplot as plt \n",
    "df = pd.read_csv('pacientes_covid.csv') #carga del csv con la funcion read_csv\n",
    "df.head()"
   ]
  },
  {
   "cell_type": "markdown",
   "id": "e6328644-1692-44c3-b7bb-35d7d75d261d",
   "metadata": {},
   "source": [
    "2 Exploracion inicial\n",
    "En la tabla se observan 10 columnas las cuales toman los valores de: ID: int64, Sexo: String, Temperatura: float64, Presion_Sistolica: int64, Presion_Diastolica: int64, Frecuencia_Cardiaca: int64, Nivel_Oxigeno: int64, Enfermo_COVID: bool, Hospitalizado: bool.\n",
    "Ademas el csv cuenta con una dimension de 300 registros sinteticos.\n",
    "En primeras filas podemos obsevar una muestra  heterogenea con una media de edad de 35.8 donde se muestra que hay mas hombres enfermos que mujeres asi que los mismos tiene un indice menor de ser hopitalizados copn respecto a las mujeres.\n"
   ]
  },
  {
   "cell_type": "code",
   "execution_count": 6,
   "id": "1057df9c-b4bc-406e-80ea-a2316c37983c",
   "metadata": {},
   "outputs": [
    {
     "name": "stdout",
     "output_type": "stream",
     "text": [
      "<class 'pandas.core.frame.DataFrame'>\n",
      "RangeIndex: 300 entries, 0 to 299\n",
      "Data columns (total 10 columns):\n",
      " #   Column               Non-Null Count  Dtype  \n",
      "---  ------               --------------  -----  \n",
      " 0   ID                   300 non-null    int64  \n",
      " 1   Edad                 300 non-null    int64  \n",
      " 2   Sexo                 300 non-null    object \n",
      " 3   Temperatura          300 non-null    float64\n",
      " 4   Presion_Sistolica    300 non-null    int64  \n",
      " 5   Presion_Diastolica   300 non-null    int64  \n",
      " 6   Frecuencia_Cardiaca  300 non-null    int64  \n",
      " 7   Nivel_Oxigeno        300 non-null    int64  \n",
      " 8   Enfermo_COVID        300 non-null    object \n",
      " 9   Hospitalizado        300 non-null    object \n",
      "dtypes: float64(1), int64(6), object(3)\n",
      "memory usage: 23.6+ KB\n"
     ]
    }
   ],
   "source": [
    "df.info()"
   ]
  },
  {
   "attachments": {},
   "cell_type": "markdown",
   "id": "6f99e759-6a20-42db-b42b-12f01e10b88e",
   "metadata": {},
   "source": [
    "3 Cálculos básicos con Pandas/Numpy"
   ]
  },
  {
   "cell_type": "markdown",
   "id": "00d2a17d-719a-475d-b322-651b98a6e410",
   "metadata": {},
   "source": [
    "Número total de pacientes.\n",
    "se utiliza la funcion \"len()\" para obtener la longitud del dataset"
   ]
  },
  {
   "cell_type": "code",
   "execution_count": 3,
   "id": "e7502087-b385-4dc2-a008-a5f3c8dfd59e",
   "metadata": {},
   "outputs": [
    {
     "name": "stdout",
     "output_type": "stream",
     "text": [
      "Número total de pacientes: 300\n"
     ]
    }
   ],
   "source": [
    "total_pacientes = len(df)\n",
    "print(\"Número total de pacientes:\", total_pacientes)\n"
   ]
  },
  {
   "cell_type": "markdown",
   "id": "ed4fe25e-043d-4e24-b8cb-d1e0d017a098",
   "metadata": {},
   "source": [
    "Promedio de edad. Se aplica la funcion mean() sobre la columna Edad para cualcular el promedio de los valores que contenga."
   ]
  },
  {
   "cell_type": "code",
   "execution_count": 4,
   "id": "fbed802e-270b-428d-b7a5-c10c292b17a4",
   "metadata": {},
   "outputs": [
    {
     "name": "stdout",
     "output_type": "stream",
     "text": [
      "Promedio de edad: 43.86 años\n"
     ]
    }
   ],
   "source": [
    "prom_edad = df[\"Edad\"].mean()\n",
    "print(f\"Promedio de edad: {prom_edad:.2f} años\")\n"
   ]
  },
  {
   "cell_type": "markdown",
   "id": "4cb9f30b-d5a1-4092-84f5-eff014880090",
   "metadata": {},
   "source": [
    "Paciente más joven y más viejo:\n",
    "Se aplica la funcion min() y max() sobre la columna Edad para obtener el valor mas bajo y mas alto respectivamente,\n",
    "contenido en la columna"
   ]
  },
  {
   "cell_type": "code",
   "execution_count": 3,
   "id": "136c51d5-d136-44cc-b9f0-fd5f01d88b0c",
   "metadata": {},
   "outputs": [
    {
     "name": "stdout",
     "output_type": "stream",
     "text": [
      "Edad mínima: 1 años\n",
      "Edad máxima: 89 años\n"
     ]
    }
   ],
   "source": [
    "edad_min = df[\"Edad\"].min()\n",
    "edad_max = df[\"Edad\"].max()\n",
    "print(f\"Edad mínima: {edad_min} años\")\n",
    "print(f\"Edad máxima: {edad_max} años\") \n"
   ]
  },
  {
   "cell_type": "markdown",
   "id": "2317a2ce-6624-4daa-b7bf-ab91f2cc02d2",
   "metadata": {},
   "source": [
    "Promedio de temperatura. Se aplica la funcion mean() sobre la columna Temperatura para cualcular el promedio de los valores que contenga.\n",
    "Nota: uso de f-string para imprimir la variable a 2 decimales"
   ]
  },
  {
   "cell_type": "code",
   "execution_count": 4,
   "id": "0f94383a-3ff1-4ff0-b6a9-420e3a59d5a6",
   "metadata": {},
   "outputs": [
    {
     "name": "stdout",
     "output_type": "stream",
     "text": [
      "36.994\n",
      "Promedio de temperatura: 36.99 °C\n"
     ]
    }
   ],
   "source": [
    "prom_temp = df[\"Temperatura\"].mean()\n",
    "print(prom_temp)\n",
    "print(f\"Promedio de temperatura: {prom_temp:.2f} °C\")\n"
   ]
  },
  {
   "cell_type": "markdown",
   "id": "ee7c98bf-6ef8-4e8d-8fd1-231926ae1e7c",
   "metadata": {},
   "source": [
    "Promedio de saturación de oxígeno en pacientes enfermos vs sanos. Para ambos casos, se obtienen aquellos registros donde en el apartado\n",
    "\"Enfermo_COVID\" sean \"Sí\" o \"No\" segun sea el caso, para despues obtener sus respectivos promedios mediante mean() en la columuna (Nivel_Oxigeno).\n",
    "Finalmete se redondea el resultado para obtener un porcentage entero"
   ]
  },
  {
   "cell_type": "markdown",
   "id": "a311c4b8-ea6e-42d9-b8e2-dafac82c4a75",
   "metadata": {},
   "source": [
    "enfermos = df[df[\"Enfermo_COVID\"] == \"Sí\"]\n",
    "promedioEnfermos = enfermos[\"Nivel_Oxigeno\"].mean()\n",
    "print(\"Promedio de saturacion de oxigeno en pacientes enfermos: \",round(promedioEnfermos))\n",
    "sanos = df[df[\"Enfermo_COVID\"] == \"No\"]\n",
    "promedioSanos = sanos[\"Nivel_Oxigeno\"].mean()\n",
    "print(\"Promedio de saturacion de oxigeno en pacientes sanos:\",round(promedioSanos))"
   ]
  },
  {
   "cell_type": "markdown",
   "id": "a7d78049-1056-4061-90e1-0f117096e354",
   "metadata": {},
   "source": [
    "4 Análisis demográfico y clínico"
   ]
  },
  {
   "cell_type": "markdown",
   "id": "6e9b8a18-d2c9-46eb-86ec-861fca1f56be",
   "metadata": {},
   "source": [
    "numero de mujeres sanas y enfermas.  en ambos casos,aplica una condicion logica donde para la columna sexo sea mujer y para\n",
    "la columna Enfermo_COVID es a falso para el primer caso y verdadero para el segundo"
   ]
  },
  {
   "cell_type": "code",
   "execution_count": 10,
   "id": "c5e58083-fb22-4bcf-8ceb-7bcbac0146d7",
   "metadata": {},
   "outputs": [
    {
     "name": "stdout",
     "output_type": "stream",
     "text": [
      "El numero de mujeres sanas es: 65\n",
      "El numero de mujeres enfermas  es: 95\n"
     ]
    }
   ],
   "source": [
    "m_sanas = len(df[(df[\"Sexo\"] == \"Mujer\") & (df[\"Enfermo_COVID\"] == \"No\")])\n",
    "m_enfermas = len(df[(df[\"Sexo\"] == \"Mujer\") & (df[\"Enfermo_COVID\"] == \"Sí\")])\n",
    "\n",
    "print(f\"El numero de mujeres sanas es: {m_sanas}\")\n",
    "print(f\"El numero de mujeres enfermas  es: {m_enfermas}\")"
   ]
  },
  {
   "cell_type": "markdown",
   "id": "8c7616de-7e93-42a1-97c3-7569a8204773",
   "metadata": {},
   "source": [
    "numero de hombres sanos y enfermos.  en ambos casos,aplica una condicion logica donde para la columna sexo sea hombre y para\n",
    "la columna Enfermo_COVID es a falso para el primer caso y verdadero para el segundo"
   ]
  },
  {
   "cell_type": "code",
   "execution_count": 4,
   "id": "7129ceae-793e-4a7e-8ec0-6ce3020e6416",
   "metadata": {},
   "outputs": [
    {
     "name": "stdout",
     "output_type": "stream",
     "text": [
      "El numero de hombres sanos es: 51\n",
      "El numero de hombres enfermos  es: 89\n"
     ]
    }
   ],
   "source": [
    "h_sanos = len(df[(df[\"Sexo\"] == \"Hombre\") & (df[\"Enfermo_COVID\"] == \"No\")])\n",
    "h_enfermos = len(df[(df[\"Sexo\"] == \"Hombre\") & (df[\"Enfermo_COVID\"] == \"Sí\")])\n",
    "\n",
    "print(f\"El numero de hombres sanos es: {h_sanos}\")\n",
    "print(f\"El numero de hombres enfermos  es: {h_enfermos}\")"
   ]
  },
  {
   "cell_type": "code",
   "execution_count": 15,
   "id": "df0aed07-a2ef-49b8-bdfa-fabb5d81ca30",
   "metadata": {
    "scrolled": true
   },
   "outputs": [
    {
     "name": "stdout",
     "output_type": "stream",
     "text": [
      "El numero de ninos enfermos: 34\n",
      "El numero de ninos sanos: 15\n",
      "El numero de jovenes enfermos: 27\n",
      "El numero de jovenes sanos: 27\n",
      "El numero de adultos enfermos: 61\n",
      "El numero de adultos sanos: 35\n",
      "El numero de adultos mayores enfermos: 61\n",
      "El numero de adultos mayores sanos: 34\n"
     ]
    }
   ],
   "source": [
    "ninos = df[df[\"Edad\"]<=12]\n",
    "jovenes = df[(df[\"Edad\"]<31) & (df[\"Edad\"]>12)]\n",
    "adultos = df[(df[\"Edad\"]<60) & (df[\"Edad\"]>30)]\n",
    "adultosMayores = df[df[\"Edad\"]>60]\n",
    "\n",
    "enfermosNinos = len(ninos[ninos[\"Enfermo_COVID\"] == \"Sí\"])\n",
    "sanosNinos = len(ninos[ninos[\"Enfermo_COVID\"] == \"No\"])\n",
    "\n",
    "enfermosjovenes = len(jovenes[jovenes[\"Enfermo_COVID\"] == \"Sí\"])\n",
    "sanosjovenes = len(jovenes[jovenes[\"Enfermo_COVID\"] == \"No\"])\n",
    "\n",
    "enfermosadultos = len(adultos[adultos[\"Enfermo_COVID\"] == \"Sí\"])\n",
    "sanosadultos = len(adultos[adultos[\"Enfermo_COVID\"] == \"No\"])\n",
    "\n",
    "enfermosadultosMayores = len(adultosMayores[adultosMayores[\"Enfermo_COVID\"] == \"Sí\"])\n",
    "sanosadultosMayores = len(adultosMayores[adultosMayores[\"Enfermo_COVID\"] == \"No\"])\n",
    "\n",
    "print(f\"El numero de ninos enfermos: {enfermosNinos}\")\n",
    "print(f\"El numero de ninos sanos: {sanosNinos}\")\n",
    "\n",
    "print(f\"El numero de jovenes enfermos: {enfermosjovenes}\")\n",
    "print(f\"El numero de jovenes sanos: {sanosjovenes}\")\n",
    "\n",
    "print(f\"El numero de adultos enfermos: {enfermosadultos}\")\n",
    "print(f\"El numero de adultos sanos: {sanosadultos}\")\n",
    "\n",
    "print(f\"El numero de adultos mayores enfermos: {enfermosadultosMayores}\")\n",
    "print(f\"El numero de adultos mayores sanos: {sanosadultosMayores}\")\n",
    "\n"
   ]
  },
  {
   "cell_type": "code",
   "execution_count": 32,
   "id": "50a72736-2021-4c39-a6dd-4f1e50abf541",
   "metadata": {},
   "outputs": [
    {
     "name": "stdout",
     "output_type": "stream",
     "text": [
      "porcentaje de hospitalizados: 32 %\n",
      "porcentaje de no hospitalizados: 68 %\n"
     ]
    }
   ],
   "source": [
    "numeroHopitalizados = (100*(len(df[df[\"Hospitalizado\"] == \"Sí\"])))/(len(df))\n",
    "numeroNoHopitalizados = (100*(len(df[df[\"Hospitalizado\"] == \"No\"])))/(len(df))\n",
    "print(f\"porcentaje de hospitalizados: {numeroHopitalizados:.0f} %\")\n",
    "print(f\"porcentaje de no hospitalizados: {numeroNoHopitalizados:.0f} %\")"
   ]
  },
  {
   "cell_type": "markdown",
   "id": "567aa091-6f68-4900-b56d-7d0706297106",
   "metadata": {},
   "source": [
    "5 Visualizaciones con Matplotlib/Seaborn:"
   ]
  },
  {
   "cell_type": "code",
   "execution_count": 44,
   "id": "7c322627-d7fa-4bf8-88e0-ccf5c102d097",
   "metadata": {},
   "outputs": [
    {
     "data": {
      "image/png": "[encoded data removed]",
      "text/plain": [
       "<Figure size 640x480 with 1 Axes>"
      ]
     },
     "metadata": {},
     "output_type": "display_data"
    }
   ],
   "source": [
    "sn.histplot(data=df, x=\"Edad\", bins=20, kde=True)\n",
    "plt.ylabel(\"Frecuencia\")\n",
    "plt.show()"
   ]
  },
  {
   "cell_type": "code",
   "execution_count": 3,
   "id": "3a62dcc5-763f-497a-bed7-808e9807065d",
   "metadata": {},
   "outputs": [
    {
     "data": {
      "image/png": "[encoded data removed]",
      "text/plain": [
       "<Figure size 640x480 with 1 Axes>"
      ]
     },
     "metadata": {},
     "output_type": "display_data"
    }
   ],
   "source": [
    "enfermos = df[df[\"Enfermo_COVID\"]==\"Sí\"]\n",
    "\n",
    "sn.countplot(data=enfermos, x=\"Sexo\")\n",
    "plt.ylabel(\"Frecuencia\")\n",
    "plt.title(\"Frecuencia de enfermos por sexo\")\n",
    "plt.show()\n",
    "\n"
   ]
  },
  {
   "cell_type": "code",
   "execution_count": null,
   "id": "df121fa7-03a5-4fd1-a737-8d9c66e2df46",
   "metadata": {},
   "outputs": [],
   "source": []
  }
 ],
 "metadata": {
  "kernelspec": {
   "display_name": "Python 3 (ipykernel)",
   "language": "python",
   "name": "python3"
  },
  "language_info": {
   "codemirror_mode": {
    "name": "ipython",
    "version": 3
   },
   "file_extension": ".py",
   "mimetype": "text/x-python",
   "name": "python",
   "nbconvert_exporter": "python",
   "pygments_lexer": "ipython3",
   "version": "3.12.3"
  }
 },
 "nbformat": 4,
 "nbformat_minor": 5
}
