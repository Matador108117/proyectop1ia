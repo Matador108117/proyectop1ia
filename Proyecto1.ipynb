{
 "cells": [
  {
   "cell_type": "markdown",
   "id": "47571c6e-3235-42e6-8a0a-23ee4b5a98f3",
   "metadata": {},
   "source": [
    ".Proyecto para el Parcial 1 \"Proyecto covid 19\"\n",
    "Por Uriel Brenis Aguilar\n",
    "Rafael Melchor Hernandez\n"
   ]
  },
  {
   "cell_type": "markdown",
   "id": "8aec538d-bb51-495d-a749-f67a04669f95",
   "metadata": {},
   "source": [
    "1 Cargar el dataset "
   ]
  },
  {
   "cell_type": "code",
   "execution_count": 2,
   "id": "b4f8dffb-198b-406e-a0d4-a1f62692f829",
   "metadata": {},
   "outputs": [
    {
     "data": {
      "text/html": [
       "<div>\n",
       "<style scoped>\n",
       "    .dataframe tbody tr th:only-of-type {\n",
       "        vertical-align: middle;\n",
       "    }\n",
       "\n",
       "    .dataframe tbody tr th {\n",
       "        vertical-align: top;\n",
       "    }\n",
       "\n",
       "    .dataframe thead th {\n",
       "        text-align: right;\n",
       "    }\n",
       "</style>\n",
       "<table border=\"1\" class=\"dataframe\">\n",
       "  <thead>\n",
       "    <tr style=\"text-align: right;\">\n",
       "      <th></th>\n",
       "      <th>ID</th>\n",
       "      <th>Edad</th>\n",
       "      <th>Sexo</th>\n",
       "      <th>Temperatura</th>\n",
       "      <th>Presion_Sistolica</th>\n",
       "      <th>Presion_Diastolica</th>\n",
       "      <th>Frecuencia_Cardiaca</th>\n",
       "      <th>Nivel_Oxigeno</th>\n",
       "      <th>Enfermo_COVID</th>\n",
       "      <th>Hospitalizado</th>\n",
       "    </tr>\n",
       "  </thead>\n",
       "  <tbody>\n",
       "    <tr>\n",
       "      <th>0</th>\n",
       "      <td>1</td>\n",
       "      <td>52</td>\n",
       "      <td>Hombre</td>\n",
       "      <td>35.5</td>\n",
       "      <td>155</td>\n",
       "      <td>75</td>\n",
       "      <td>89</td>\n",
       "      <td>97</td>\n",
       "      <td>No</td>\n",
       "      <td>Sí</td>\n",
       "    </tr>\n",
       "    <tr>\n",
       "      <th>1</th>\n",
       "      <td>2</td>\n",
       "      <td>15</td>\n",
       "      <td>Hombre</td>\n",
       "      <td>38.1</td>\n",
       "      <td>142</td>\n",
       "      <td>66</td>\n",
       "      <td>73</td>\n",
       "      <td>93</td>\n",
       "      <td>Sí</td>\n",
       "      <td>No</td>\n",
       "    </tr>\n",
       "    <tr>\n",
       "      <th>2</th>\n",
       "      <td>3</td>\n",
       "      <td>72</td>\n",
       "      <td>Mujer</td>\n",
       "      <td>35.8</td>\n",
       "      <td>140</td>\n",
       "      <td>76</td>\n",
       "      <td>66</td>\n",
       "      <td>81</td>\n",
       "      <td>No</td>\n",
       "      <td>No</td>\n",
       "    </tr>\n",
       "    <tr>\n",
       "      <th>3</th>\n",
       "      <td>4</td>\n",
       "      <td>61</td>\n",
       "      <td>Hombre</td>\n",
       "      <td>38.6</td>\n",
       "      <td>128</td>\n",
       "      <td>82</td>\n",
       "      <td>76</td>\n",
       "      <td>88</td>\n",
       "      <td>Sí</td>\n",
       "      <td>No</td>\n",
       "    </tr>\n",
       "    <tr>\n",
       "      <th>4</th>\n",
       "      <td>5</td>\n",
       "      <td>21</td>\n",
       "      <td>Mujer</td>\n",
       "      <td>35.9</td>\n",
       "      <td>140</td>\n",
       "      <td>85</td>\n",
       "      <td>103</td>\n",
       "      <td>84</td>\n",
       "      <td>Sí</td>\n",
       "      <td>Sí</td>\n",
       "    </tr>\n",
       "  </tbody>\n",
       "</table>\n",
       "</div>"
      ],
      "text/plain": [
       "   ID  Edad    Sexo  Temperatura  Presion_Sistolica  Presion_Diastolica  \\\n",
       "0   1    52  Hombre         35.5                155                  75   \n",
       "1   2    15  Hombre         38.1                142                  66   \n",
       "2   3    72   Mujer         35.8                140                  76   \n",
       "3   4    61  Hombre         38.6                128                  82   \n",
       "4   5    21   Mujer         35.9                140                  85   \n",
       "\n",
       "   Frecuencia_Cardiaca  Nivel_Oxigeno Enfermo_COVID Hospitalizado  \n",
       "0                   89             97            No            Sí  \n",
       "1                   73             93            Sí            No  \n",
       "2                   66             81            No            No  \n",
       "3                   76             88            Sí            No  \n",
       "4                  103             84            Sí            Sí  "
      ]
     },
     "execution_count": 2,
     "metadata": {},
     "output_type": "execute_result"
    }
   ],
   "source": [
    "#importaciones\n",
    "import pandas as pd\n",
    "import numpy as np\n",
    "import seaborn as sn\n",
    "import matplotlib as plt\n",
    "df = pd.read_csv('pacientes_covid.csv') #carga del csv con la funcion read_csv\n",
    "df.head()"
   ]
  },
  {
   "cell_type": "markdown",
   "id": "e6328644-1692-44c3-b7bb-35d7d75d261d",
   "metadata": {},
   "source": [
    "2 Exploracion inicial\n",
    "En la tabla se observan 10 columnas las cuales toman los valores de: ID: int64, Sexo: String, Temperatura: float64, Presion_Sistolica: int64, Presion_Diastolica: int64, Frecuencia_Cardiaca: int64, Nivel_Oxigeno: int64, Enfermo_COVID: bool, Hospitalizado: bool.\n",
    "Ademas el csv cuenta con una dimension de 300 registros sinteticos.\n",
    "En primeras filas podemos obsevar una muestra  heterogenea con una media de edad de 35.8 donde se muestra que hay mas hombres enfermos que mujeres asi que los mismos tiene un indice menor de ser hopitalizados copn respecto a las mujeres.\n"
   ]
  },
  {
   "cell_type": "code",
   "execution_count": 6,
   "id": "1057df9c-b4bc-406e-80ea-a2316c37983c",
   "metadata": {},
   "outputs": [
    {
     "name": "stdout",
     "output_type": "stream",
     "text": [
      "<class 'pandas.core.frame.DataFrame'>\n",
      "RangeIndex: 300 entries, 0 to 299\n",
      "Data columns (total 10 columns):\n",
      " #   Column               Non-Null Count  Dtype  \n",
      "---  ------               --------------  -----  \n",
      " 0   ID                   300 non-null    int64  \n",
      " 1   Edad                 300 non-null    int64  \n",
      " 2   Sexo                 300 non-null    object \n",
      " 3   Temperatura          300 non-null    float64\n",
      " 4   Presion_Sistolica    300 non-null    int64  \n",
      " 5   Presion_Diastolica   300 non-null    int64  \n",
      " 6   Frecuencia_Cardiaca  300 non-null    int64  \n",
      " 7   Nivel_Oxigeno        300 non-null    int64  \n",
      " 8   Enfermo_COVID        300 non-null    object \n",
      " 9   Hospitalizado        300 non-null    object \n",
      "dtypes: float64(1), int64(6), object(3)\n",
      "memory usage: 23.6+ KB\n"
     ]
    }
   ],
   "source": [
    "df.info()"
   ]
  },
  {
   "cell_type": "markdown",
   "id": "de29e1fd-cea8-45f3-8b45-4380b3afb1ff",
   "metadata": {},
   "source": [
    "3 Cálculos básicos con Pandas/Numpy"
   ]
  },
  {
   "cell_type": "markdown",
   "id": "53b4e3b6-b7f2-4b63-9870-263ab361326a",
   "metadata": {},
   "source": [
    "Número total de pacientes."
   ]
  },
  {
   "cell_type": "code",
   "execution_count": 3,
   "id": "e7502087-b385-4dc2-a008-a5f3c8dfd59e",
   "metadata": {},
   "outputs": [
    {
     "name": "stdout",
     "output_type": "stream",
     "text": [
      "Número total de pacientes: 300\n"
     ]
    }
   ],
   "source": [
    "total_pacientes = len(df)\n",
    "print(\"Número total de pacientes:\", total_pacientes)\n"
   ]
  },
  {
   "cell_type": "markdown",
   "id": "ed4fe25e-043d-4e24-b8cb-d1e0d017a098",
   "metadata": {},
   "source": [
    "Promedio de edad."
   ]
  },
  {
   "cell_type": "code",
   "execution_count": 4,
   "id": "fbed802e-270b-428d-b7a5-c10c292b17a4",
   "metadata": {},
   "outputs": [
    {
     "name": "stdout",
     "output_type": "stream",
     "text": [
      "Promedio de edad: 43.86 años\n"
     ]
    }
   ],
   "source": [
    "prom_edad = df[\"Edad\"].mean()\n",
    "print(f\"Promedio de edad: {prom_edad:.2f} años\")\n"
   ]
  },
  {
   "cell_type": "markdown",
   "id": "4cb9f30b-d5a1-4092-84f5-eff014880090",
   "metadata": {},
   "source": [
    "Paciente más joven y más viejo: "
   ]
  },
  {
   "cell_type": "code",
   "execution_count": 7,
   "id": "136c51d5-d136-44cc-b9f0-fd5f01d88b0c",
   "metadata": {},
   "outputs": [
    {
     "name": "stdout",
     "output_type": "stream",
     "text": [
      "Edad mínima: 1 años\n",
      "Edad máxima: 89 años\n"
     ]
    }
   ],
   "source": [
    "edad_min = df[\"Edad\"].min()\n",
    "edad_max = df[\"Edad\"].max()\n",
    "\n",
    "ids_mas_joven = df.loc[df[\"Edad\"] == edad_min, \"ID\"].tolist()\n",
    "ids_mas_viejo  = df.loc[df[\"Edad\"] == edad_max, \"ID\"].tolist()\n",
    "\n",
    "print(f\"Edad mínima: {edad_min} años\")\n",
    "print(f\"Edad máxima: {edad_max} años\") \n"
   ]
  },
  {
   "cell_type": "markdown",
   "id": "2317a2ce-6624-4daa-b7bf-ab91f2cc02d2",
   "metadata": {},
   "source": [
    "Promedio de temperatura:"
   ]
  },
  {
   "cell_type": "code",
   "execution_count": 8,
   "id": "0f94383a-3ff1-4ff0-b6a9-420e3a59d5a6",
   "metadata": {},
   "outputs": [
    {
     "name": "stdout",
     "output_type": "stream",
     "text": [
      "Promedio de temperatura: 36.99 °C\n"
     ]
    }
   ],
   "source": [
    "prom_temp = df[\"Temperatura\"].mean()\n",
    "print(f\"Promedio de temperatura: {prom_temp:.2f} °C\")\n"
   ]
  },
  {
   "cell_type": "markdown",
   "id": "ee7c98bf-6ef8-4e8d-8fd1-231926ae1e7c",
   "metadata": {},
   "source": [
    "Promedio de saturación de oxígeno en pacientes enfermos vs sanos:"
   ]
  },
  {
   "cell_type": "code",
   "execution_count": 13,
   "id": "3ad3c181-e75b-4dae-be03-569178fda3fe",
   "metadata": {},
   "outputs": [
    {
     "name": "stdout",
     "output_type": "stream",
     "text": [
      "Promedio de saturación de oxígeno (%): (formateado a enteros)\n"
     ]
    },
    {
     "data": {
      "text/plain": [
       "Enfermo_COVID_bool\n",
       "Sanos       89\n",
       "Enfermos    89\n",
       "Name: Nivel_Oxigeno, dtype: object"
      ]
     },
     "metadata": {},
     "output_type": "display_data"
    }
   ],
   "source": [
    "import pandas as pd, numpy as np, re, unicodedata\n",
    "\n",
    "try:\n",
    "    df \n",
    "except NameError:\n",
    "    df = pd.read_csv(\"pacientes_covid.csv\")  \n",
    "\n",
    "def _normalize(s):\n",
    "    s = str(s).strip()\n",
    "    s = unicodedata.normalize(\"NFKD\", s).encode(\"ascii\", \"ignore\").decode(\"ascii\")\n",
    "    s = re.sub(r\"\\s+\", \"_\", s)\n",
    "    return s\n",
    "\n",
    "df.columns = [_normalize(c) for c in df.columns]\n",
    "\n",
    "\n",
    "cand_covid = {\"enfermo_covid\",\"covid\",\"positivo_covid\",\"diagnostico_covid\",\"resultado_covid\"}\n",
    "cand_spo2  = {\"nivel_oxigeno\",\"spo2\",\"saturacion_oxigeno\",\"saturacion_de_oxigeno\",\"oxigeno\",\"oximetria\"}\n",
    "\n",
    "covid_col = next((c for c in df.columns if c.lower() in cand_covid), None)\n",
    "spo2_col  = next((c for c in df.columns if c.lower() in cand_spo2), None)\n",
    "\n",
    "if covid_col is None or spo2_col is None:\n",
    "    raise KeyError(f\"No pude encontrar columnas COVID/SpO2. covid_col={covid_col}, spo2_col={spo2_col}. Revisa nombres con: print(df.columns.tolist())\")\n",
    "\n",
    "\n",
    "def to_bool(x):\n",
    "    if pd.isna(x): return np.nan\n",
    "    if isinstance(x, (int,float)): return bool(int(x))\n",
    "    s = str(x).strip().lower()\n",
    "    return s in {\"si\",\"sí\",\"s\",\"yes\",\"y\",\"true\",\"t\",\"1\",\"positivo\",\"positiva\"}\n",
    "\n",
    "df[\"Enfermo_COVID_bool\"] = df[covid_col].apply(to_bool)\n",
    "\n",
    "df[spo2_col] = pd.to_numeric(df[spo2_col], errors=\"coerce\")\n",
    "\n",
    "\n",
    "oxigeno_prom_fmt = (df.groupby(\"Enfermo_COVID_bool\")[spo2_col]\n",
    "                      .mean()\n",
    "                      .rename({True: \"Enfermos\", False: \"Sanos\"})\n",
    "                      .apply(lambda x: f\"{x:.0f}\"))  \n",
    "\n",
    "print(\"Promedio de saturación de oxígeno (%):\")\n",
    "display(oxigeno_prom_fmt)\n"
   ]
  },
  {
   "cell_type": "code",
   "execution_count": null,
   "id": "1c45b411-c4ce-44e3-b9a9-0cc5864ec867",
   "metadata": {},
   "outputs": [],
   "source": []
  }
 ],
 "metadata": {
  "kernelspec": {
   "display_name": "Python 3 (ipykernel)",
   "language": "python",
   "name": "python3"
  },
  "language_info": {
   "codemirror_mode": {
    "name": "ipython",
    "version": 3
   },
   "file_extension": ".py",
   "mimetype": "text/x-python",
   "name": "python",
   "nbconvert_exporter": "python",
   "pygments_lexer": "ipython3",
   "version": "3.8.12"
  }
 },
 "nbformat": 4,
 "nbformat_minor": 5
}
